{
 "cells": [
  {
   "cell_type": "code",
   "execution_count": 2,
   "metadata": {},
   "outputs": [],
   "source": [
    "import time"
   ]
  },
  {
   "cell_type": "code",
   "execution_count": 3,
   "metadata": {},
   "outputs": [],
   "source": [
    "txt = 'Beispiel'\n",
    "nonce = 0\n",
    "nb_cond = 7 # 7 starts to get annoying already..."
   ]
  },
  {
   "cell_type": "code",
   "execution_count": 4,
   "metadata": {},
   "outputs": [
    {
     "name": "stdout",
     "output_type": "stream",
     "text": [
      "-3165651317880908947\n"
     ]
    }
   ],
   "source": [
    "my_hash = hash(str(nonce)+txt)\n",
    "print(my_hash)"
   ]
  },
  {
   "cell_type": "code",
   "execution_count": 5,
   "metadata": {},
   "outputs": [
    {
     "name": "stdout",
     "output_type": "stream",
     "text": [
      "Nonce: 14788795\n",
      "Hash: 1111111726754156645\n",
      "Zeit: 23.222 Sekunden\n"
     ]
    }
   ],
   "source": [
    "start_time = time.time()\n",
    "while True:\n",
    "    nonce = nonce + 1\n",
    "    my_hash = hash(str(nonce)+txt)\n",
    "    my_hash_txt = str(my_hash)\n",
    "    \n",
    "    is_ok = True\n",
    "    \n",
    "    for c in my_hash_txt[0:nb_cond]:\n",
    "        if not c == '1':\n",
    "            is_ok = False \n",
    "    \n",
    "    if is_ok:\n",
    "        break\n",
    "end_time = time.time()\n",
    "        \n",
    "print('Nonce: {:}'.format(nonce))\n",
    "print('Hash: {:}'.format(my_hash))\n",
    "print('Zeit: {:.3f} Sekunden'.format(end_time - start_time))"
   ]
  }
 ],
 "metadata": {
  "kernelspec": {
   "display_name": "Python 3",
   "language": "python",
   "name": "python3"
  },
  "language_info": {
   "codemirror_mode": {
    "name": "ipython",
    "version": 3
   },
   "file_extension": ".py",
   "mimetype": "text/x-python",
   "name": "python",
   "nbconvert_exporter": "python",
   "pygments_lexer": "ipython3",
   "version": "3.7.3"
  }
 },
 "nbformat": 4,
 "nbformat_minor": 2
}
