{
 "cells": [
  {
   "cell_type": "markdown",
   "metadata": {},
   "source": [
    "# Beispiel zur Proof of Work\n",
    "## Import von Libraries"
   ]
  },
  {
   "cell_type": "code",
   "execution_count": 1,
   "metadata": {},
   "outputs": [],
   "source": [
    "import time"
   ]
  },
  {
   "cell_type": "markdown",
   "metadata": {},
   "source": [
    "## Beispiel-Text und Bedingung\n",
    "\n",
    "6 geht noch, ab 7 wird es lang..."
   ]
  },
  {
   "cell_type": "code",
   "execution_count": 2,
   "metadata": {},
   "outputs": [
    {
     "name": "stdout",
     "output_type": "stream",
     "text": [
      "-8893967179019076238\n"
     ]
    }
   ],
   "source": [
    "txt = 'Beispiel'\n",
    "nonce = 0\n",
    "nb_cond = 6\n",
    "\n",
    "my_hash = hash(str(nonce)+txt)\n",
    "print(my_hash)"
   ]
  },
  {
   "cell_type": "markdown",
   "metadata": {},
   "source": [
    "## Berechnung"
   ]
  },
  {
   "cell_type": "code",
   "execution_count": 3,
   "metadata": {},
   "outputs": [
    {
     "name": "stdout",
     "output_type": "stream",
     "text": [
      "Nonce: 550622\n",
      "Hash: 1111113286678397520\n",
      "Zeit: 1.001 Sekunden\n"
     ]
    }
   ],
   "source": [
    "start_time = time.time()\n",
    "while True:\n",
    "    nonce = nonce + 1\n",
    "    my_hash = hash(str(nonce)+txt)\n",
    "    my_hash_txt = str(my_hash)\n",
    "    \n",
    "    is_ok = True\n",
    "    \n",
    "    for c in my_hash_txt[0:nb_cond]:\n",
    "        if not c == '1':\n",
    "            is_ok = False \n",
    "    \n",
    "    if is_ok:\n",
    "        break\n",
    "end_time = time.time()\n",
    "        \n",
    "print('Nonce: {:}'.format(nonce))\n",
    "print('Hash: {:}'.format(my_hash))\n",
    "print('Zeit: {:.3f} Sekunden'.format(end_time - start_time))"
   ]
  },
  {
   "cell_type": "code",
   "execution_count": null,
   "metadata": {},
   "outputs": [],
   "source": []
  }
 ],
 "metadata": {
  "kernelspec": {
   "display_name": "Python 3",
   "language": "python",
   "name": "python3"
  },
  "language_info": {
   "codemirror_mode": {
    "name": "ipython",
    "version": 3
   },
   "file_extension": ".py",
   "mimetype": "text/x-python",
   "name": "python",
   "nbconvert_exporter": "python",
   "pygments_lexer": "ipython3",
   "version": "3.7.3"
  }
 },
 "nbformat": 4,
 "nbformat_minor": 2
}
