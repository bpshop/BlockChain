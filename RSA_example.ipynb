{
 "cells": [
  {
   "cell_type": "markdown",
   "metadata": {},
   "source": [
    "# Beispiel zur Public Key Cryptography\n",
    "\n",
    "## Diverse Imports"
   ]
  },
  {
   "cell_type": "code",
   "execution_count": 1,
   "metadata": {},
   "outputs": [],
   "source": [
    "import sympy\n",
    "import numpy as np"
   ]
  },
  {
   "cell_type": "markdown",
   "metadata": {},
   "source": [
    "# Generieren der Schlüssel\n",
    "\n",
    "Prinzip: Es ist für einen Computer deutlich einfacher, zwei Zahlen p und q zu multiplizieren, als das Produkt pq zu faktorisieren."
   ]
  },
  {
   "cell_type": "code",
   "execution_count": 2,
   "metadata": {},
   "outputs": [
    {
     "name": "stdout",
     "output_type": "stream",
     "text": [
      "P = 63439\n",
      "Q = 257\n",
      "Lambda = 8120064\n",
      "e = 19\n",
      "d = 2136859\n"
     ]
    }
   ],
   "source": [
    "p = 63424\n",
    "q = 254\n",
    "\n",
    "p = sympy.nextprime(p)\n",
    "q = sympy.nextprime(q)\n",
    "\n",
    "print('P = {:}'.format(p))\n",
    "print('Q = {:}'.format(q))\n",
    "\n",
    "lamb = np.lcm(p-1, q-1)\n",
    "e = 19\n",
    "\n",
    "print('Lambda = {:}'.format(lamb))\n",
    "print('e = {:}'.format(e))\n",
    "\n",
    "d = sympy.mod_inverse(int(e), int(lamb))\n",
    "print('d = {:}'.format(d))"
   ]
  },
  {
   "cell_type": "markdown",
   "metadata": {},
   "source": [
    "## Öffentlicher Schüssel"
   ]
  },
  {
   "cell_type": "code",
   "execution_count": 3,
   "metadata": {},
   "outputs": [
    {
     "name": "stdout",
     "output_type": "stream",
     "text": [
      "Public n = 16303823\n",
      "Public e = 19\n"
     ]
    }
   ],
   "source": [
    "n_public = p*q\n",
    "e_public = e\n",
    "\n",
    "print('Public n = {:}'.format(n_public))\n",
    "print('Public e = {:}'.format(e_public))"
   ]
  },
  {
   "cell_type": "markdown",
   "metadata": {},
   "source": [
    "## Privater Schlüssel"
   ]
  },
  {
   "cell_type": "code",
   "execution_count": 4,
   "metadata": {},
   "outputs": [
    {
     "name": "stdout",
     "output_type": "stream",
     "text": [
      "Private n = 16303823 (gleich wie Public e)\n",
      "Private e = 2136859\n"
     ]
    }
   ],
   "source": [
    "n_private = n_public\n",
    "e_private = d\n",
    "\n",
    "print('Private n = {:} (gleich wie Public e)'.format(n_private))\n",
    "print('Private e = {:}'.format(e_private))"
   ]
  },
  {
   "cell_type": "markdown",
   "metadata": {},
   "source": [
    "## Verschlüsseln\n",
    "\n",
    "### Codierte Nachricht"
   ]
  },
  {
   "cell_type": "code",
   "execution_count": 9,
   "metadata": {},
   "outputs": [
    {
     "name": "stdout",
     "output_type": "stream",
     "text": [
      "105104\n"
     ]
    }
   ],
   "source": [
    "text = 'hi'\n",
    "message = ord(text[0]) + 1000*ord(text[1])\n",
    "print(message)"
   ]
  },
  {
   "cell_type": "markdown",
   "metadata": {},
   "source": [
    "### Verschlüsselte Nachricht"
   ]
  },
  {
   "cell_type": "code",
   "execution_count": 10,
   "metadata": {},
   "outputs": [
    {
     "name": "stdout",
     "output_type": "stream",
     "text": [
      "12823904\n"
     ]
    }
   ],
   "source": [
    "c = pow(message, e_public) % n_public\n",
    "\n",
    "print(c)"
   ]
  },
  {
   "cell_type": "markdown",
   "metadata": {},
   "source": [
    "## Entschlüsseln"
   ]
  },
  {
   "cell_type": "code",
   "execution_count": 11,
   "metadata": {},
   "outputs": [
    {
     "name": "stdout",
     "output_type": "stream",
     "text": [
      "105104\n"
     ]
    }
   ],
   "source": [
    "m = pow(c, e_private) % n_private\n",
    "\n",
    "print(m)"
   ]
  },
  {
   "cell_type": "code",
   "execution_count": 12,
   "metadata": {},
   "outputs": [
    {
     "name": "stdout",
     "output_type": "stream",
     "text": [
      "hi\n"
     ]
    }
   ],
   "source": [
    "m = str(m)\n",
    "\n",
    "text_entschluesselt = chr(int(m[3:6])) + chr(int(m[0:3]))\n",
    "print(text_entschluesselt)"
   ]
  },
  {
   "cell_type": "code",
   "execution_count": null,
   "metadata": {},
   "outputs": [],
   "source": []
  }
 ],
 "metadata": {
  "kernelspec": {
   "display_name": "Python 3",
   "language": "python",
   "name": "python3"
  },
  "language_info": {
   "codemirror_mode": {
    "name": "ipython",
    "version": 3
   },
   "file_extension": ".py",
   "mimetype": "text/x-python",
   "name": "python",
   "nbconvert_exporter": "python",
   "pygments_lexer": "ipython3",
   "version": "3.7.3"
  }
 },
 "nbformat": 4,
 "nbformat_minor": 2
}
