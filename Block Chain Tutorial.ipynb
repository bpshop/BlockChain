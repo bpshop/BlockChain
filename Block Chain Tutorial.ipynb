{
 "cells": [
  {
   "cell_type": "markdown",
   "metadata": {},
   "source": [
    "# Blockchain-Tutorial"
   ]
  },
  {
   "cell_type": "markdown",
   "metadata": {},
   "source": [
    "## Imports / configuration"
   ]
  },
  {
   "cell_type": "code",
   "execution_count": 1,
   "metadata": {},
   "outputs": [],
   "source": [
    "import hashlib\n",
    "import binascii\n",
    "import datetime\n",
    "import collections"
   ]
  },
  {
   "cell_type": "markdown",
   "metadata": {},
   "source": [
    "Import der spezifischen Krypto-Funktionen"
   ]
  },
  {
   "cell_type": "code",
   "execution_count": 2,
   "metadata": {},
   "outputs": [],
   "source": [
    "import Crypto\n",
    "import Crypto.Random\n",
    "from Crypto.Hash import SHA\n",
    "from Crypto.PublicKey import RSA\n",
    "from Crypto.Signature import PKCS1_v1_5"
   ]
  },
  {
   "cell_type": "markdown",
   "metadata": {},
   "source": [
    "## Funktionen"
   ]
  },
  {
   "cell_type": "markdown",
   "metadata": {},
   "source": [
    "### Verschiedene Hilfsfunktionen"
   ]
  },
  {
   "cell_type": "code",
   "execution_count": 3,
   "metadata": {},
   "outputs": [],
   "source": [
    "def sha256(message):\n",
    "    return hashlib.sha256(message.encode('ascii')).hexdigest()"
   ]
  },
  {
   "cell_type": "code",
   "execution_count": 4,
   "metadata": {},
   "outputs": [],
   "source": [
    "def display_transaction(transaction):\n",
    "    #for transaction in transactions:\n",
    "    dict = transaction.to_dict()\n",
    "    print (\"sender: \" + dict['sender'])\n",
    "    print ('-----')\n",
    "    print (\"recipient: \" + dict['recipient'])\n",
    "    print ('-----')\n",
    "    print (\"value: \" + str(dict['value']))\n",
    "    print ('-----')\n",
    "    print (\"time: \" + str(dict['time']))\n",
    "    print ('-----')\n",
    "\n"
   ]
  },
  {
   "cell_type": "code",
   "execution_count": 5,
   "metadata": {},
   "outputs": [],
   "source": [
    "def dump_blockchain(Chain):\n",
    "    print(\"Number of blocks in the chain: \" + str(len(Chain)))\n",
    "    block_temp = Chain[len(Chain)-1]\n",
    "    print(\"Last block :\")\n",
    "    print(\"Root hash\")\n",
    "    print(block_temp.root_hash)\n",
    "    print(\"--------------\")\n",
    "    print(\"Nonce\")\n",
    "    print(block_temp.Nonce)\n",
    "    print(\"--------------\")\n",
    "    print(\"Previous block hash\")\n",
    "    print(block_temp.previous_block_hash)\n",
    "    print(\"=====================================\")"
   ]
  },
  {
   "cell_type": "markdown",
   "metadata": {},
   "source": [
    "### Mining-Funktion"
   ]
  },
  {
   "cell_type": "code",
   "execution_count": 6,
   "metadata": {},
   "outputs": [],
   "source": [
    "def mine(message, difficulty=1):\n",
    "    assert difficulty >= 1\n",
    "    prefix = '1' * difficulty\n",
    "    for i in range(10000000):\n",
    "        digest = sha256(str(hash(message)) + str(i))\n",
    "        if digest.startswith(prefix):\n",
    "            print (\"after \" + str(i) + \" iterations found nonce: \" + str(i) + \". Digest: \" + str(digest))\n",
    "            break\n",
    "    return digest, i"
   ]
  },
  {
   "cell_type": "markdown",
   "metadata": {},
   "source": [
    "### Klassen\n",
    "Clients (wie in Server-Client). Kunden sind Instanzen mit:\n",
    "- Einem Private-Key (wie z.B. das Smart-Card-Zertifikat)\n",
    "- Einem Public-Key"
   ]
  },
  {
   "cell_type": "code",
   "execution_count": 8,
   "metadata": {},
   "outputs": [],
   "source": [
    "class Client:\n",
    "    def __init__(self):\n",
    "        self._private_key = RSA.generate(1024, Crypto.Random.new().read)\n",
    "        self._public_key = self._private_key.publickey()\n",
    "        self._signer = PKCS1_v1_5.new(self._private_key)\n",
    "\n",
    "    @property\n",
    "    def identity(self):\n",
    "        return binascii.hexlify(self._public_key.exportKey(format='DER')).decode('ascii')"
   ]
  },
  {
   "cell_type": "markdown",
   "metadata": {},
   "source": [
    "Klasse der Transaktionen. Jede Transaktion ist eine Instanz mit den folgenden Eigenschaften:\n",
    "- Sender\n",
    "- Empfänger\n",
    "- Wert"
   ]
  },
  {
   "cell_type": "code",
   "execution_count": 9,
   "metadata": {},
   "outputs": [],
   "source": [
    "class Transaction:\n",
    "    def __init__(self, sender, recipient, value):\n",
    "        self.sender = sender\n",
    "        self.recipient = recipient\n",
    "        self.value = value\n",
    "        self.time = datetime.datetime.now()\n",
    "    \n",
    "    def to_ascii(self):\n",
    "        my_str = \"\"\n",
    "        # print(str(self.sender.identity))\n",
    "        my_str = my_str + str(self.sender.identity)\n",
    "        my_str = my_str + \"&\"\n",
    "        # print(str(self.recipient))\n",
    "        my_str = my_str + str(self.recipient)\n",
    "        my_str = my_str + \"&\"\n",
    "        # print(str(self.value))\n",
    "        my_str = my_str + str(self.value)\n",
    "        my_str = my_str + \"&\"\n",
    "        # print(str(self.time))\n",
    "        my_str = my_str + str(self.time)\n",
    "        my_str = my_str + \"&&\"\n",
    "        return my_str\n",
    "    \n",
    "    # in case of genesis, use this function\n",
    "    def to_ascii_genesis(self):\n",
    "        my_str = \"\"\n",
    "        # print(str(self.sender.identity))\n",
    "        my_str = my_str + str(self.sender)\n",
    "        my_str = my_str + \"&\"\n",
    "        # print(str(self.recipient))\n",
    "        my_str = my_str + str(self.recipient)\n",
    "        my_str = my_str + \"&\"\n",
    "        # print(str(self.value))\n",
    "        my_str = my_str + str(self.value)\n",
    "        my_str = my_str + \"&\"\n",
    "        # print(str(self.time))\n",
    "        my_str = my_str + str(self.time)\n",
    "        my_str = my_str + \"&&\"\n",
    "        return my_str\n",
    "    \n",
    "    def to_dict(self):\n",
    "        if self.sender == \"Genesis\":\n",
    "            identity = \"Genesis\"\n",
    "        else:\n",
    "            identity = self.sender.identity\n",
    "\n",
    "        return collections.OrderedDict({\n",
    "            'sender': identity,\n",
    "            'recipient': self.recipient,\n",
    "            'value': self.value,\n",
    "            'time' : self.time})"
   ]
  },
  {
   "cell_type": "markdown",
   "metadata": {},
   "source": [
    "Ausserdem gibt es die sogenannten Blocks, die alle Transaktionen aufnehmen. Blöcke beinhalten folgende Information:\n",
    "- Root-Hash\n",
    "- Hash-Wert des vorherigen Blocks\n",
    "- Nonce-Wert"
   ]
  },
  {
   "cell_type": "code",
   "execution_count": 10,
   "metadata": {},
   "outputs": [],
   "source": [
    "class Block:\n",
    "    def __init__(self):\n",
    "        self.root_hash = \"\"\n",
    "        self.previous_block_hash = \"\"\n",
    "        self.Nonce = \"\"\n",
    "        \n",
    "    def to_ascii(self):\n",
    "        my_str = \"\"\n",
    "        # print(str(self.root_hash))\n",
    "        my_str = my_str + str(self.root_hash)\n",
    "        my_str = my_str + \"&\"\n",
    "        # print(str(self.previous_block_hash))\n",
    "        my_str = my_str + str(self.previous_block_hash)\n",
    "        my_str = my_str + \"&\"\n",
    "        # print(str(self.Nonce))\n",
    "        my_str = my_str + str(self.Nonce)\n",
    "        my_str = my_str + \"&&\"\n",
    "        return my_str"
   ]
  },
  {
   "cell_type": "markdown",
   "metadata": {},
   "source": [
    "## Code"
   ]
  },
  {
   "cell_type": "markdown",
   "metadata": {},
   "source": [
    "Globale Variabeln initialisieren\n",
    "- Unser Blockchain (= eine Liste von Blocks)\n",
    "- Liste mit Transaktionen für später\n",
    "- Der Hash-Wert des letzten Blocks"
   ]
  },
  {
   "cell_type": "code",
   "execution_count": 11,
   "metadata": {},
   "outputs": [],
   "source": [
    "BlockChain = []\n",
    "transactions = []\n",
    "last_block_hash = \"\""
   ]
  },
  {
   "cell_type": "markdown",
   "metadata": {},
   "source": [
    "### Clients schaffen"
   ]
  },
  {
   "cell_type": "code",
   "execution_count": 12,
   "metadata": {},
   "outputs": [],
   "source": [
    "# clients\n",
    "Benjamin = Client()        \n",
    "Franziska = Client()\n",
    "Stephanie = Client()\n",
    "Steven = Client()"
   ]
  },
  {
   "cell_type": "markdown",
   "metadata": {},
   "source": [
    "### Erste Transaktion"
   ]
  },
  {
   "cell_type": "code",
   "execution_count": 13,
   "metadata": {},
   "outputs": [],
   "source": [
    "# initial transaction\n",
    "t0 = Transaction (\"Genesis\", Benjamin.identity, 500.0)"
   ]
  },
  {
   "cell_type": "code",
   "execution_count": 14,
   "metadata": {},
   "outputs": [
    {
     "name": "stdout",
     "output_type": "stream",
     "text": [
      "sender: Genesis\n",
      "-----\n",
      "recipient: 30819f300d06092a864886f70d010101050003818d0030818902818100bd166aff950978bad6e1ed5f0d759365a003232ed28abed89b3103099b5add02ab0a3742f8099abc6790e6fd3bf1d2bbe6553982c19ae90d3cb07378df27426186cfc69488cf9787bbdf0396d87306a624023f36b4e411150a80f38c31a7e55ff5f0d9da05d8c6ee2e8464ad442cc0e45965c7c87b2a7611e63d79d64570db8b0203010001\n",
      "-----\n",
      "value: 500.0\n",
      "-----\n",
      "time: 2020-08-11 17:47:27.129197\n",
      "-----\n"
     ]
    }
   ],
   "source": [
    "display_transaction(t0)"
   ]
  },
  {
   "cell_type": "markdown",
   "metadata": {},
   "source": [
    "### Block bilden"
   ]
  },
  {
   "cell_type": "code",
   "execution_count": 15,
   "metadata": {},
   "outputs": [],
   "source": [
    "# create first block\n",
    "block0 = Block()\n",
    "block0.previous_block_hash = None\n",
    "Nonce = None\n",
    "block0.root_hash = sha256(t0.to_ascii_genesis())\n",
    "digest = hash(block0.to_ascii())\n",
    "last_block_hash = digest\n",
    "\n",
    "# add the block to the chain\n",
    "BlockChain.append(block0)"
   ]
  },
  {
   "cell_type": "code",
   "execution_count": null,
   "metadata": {},
   "outputs": [],
   "source": [
    "print(digest)"
   ]
  },
  {
   "cell_type": "markdown",
   "metadata": {},
   "source": [
    "### Transaktionen hinzufügen"
   ]
  },
  {
   "cell_type": "markdown",
   "metadata": {},
   "source": [
    "Beispiele für Transaktionen"
   ]
  },
  {
   "cell_type": "code",
   "execution_count": 16,
   "metadata": {},
   "outputs": [],
   "source": [
    "# Transaktion 0\n",
    "transactions.append(Transaction(Benjamin, Franziska.identity, 5.0))\n",
    "# Transaktion 1<\n",
    "transactions.append(Transaction(Benjamin, Stephanie.identity, 6.0))\n",
    "# Transaktion 2\n",
    "transactions.append(Transaction(Franziska, Steven.identity, 2.0))\n",
    "# Transaktion 3\n",
    "transactions.append(Transaction(Stephanie, Franziska.identity, 4.0))\n",
    "# Transaktion 4\n",
    "transactions.append(Transaction(Steven, Stephanie.identity, 7.0))\n",
    "# Transaktion 5\n",
    "transactions.append(Transaction(Franziska, Stephanie.identity, 3.0))\n",
    "# Transaktion 6\n",
    "transactions.append(Transaction(Stephanie, Benjamin.identity, 8.0))\n",
    "# Transaktion 7\n",
    "transactions.append(Transaction(Stephanie, Franziska.identity, 1.0))"
   ]
  },
  {
   "cell_type": "code",
   "execution_count": null,
   "metadata": {},
   "outputs": [],
   "source": [
    "display_transaction(transactions[7])"
   ]
  },
  {
   "cell_type": "markdown",
   "metadata": {},
   "source": [
    "### Weiteren Block bilden"
   ]
  },
  {
   "cell_type": "code",
   "execution_count": 17,
   "metadata": {},
   "outputs": [],
   "source": [
    "block = Block()"
   ]
  },
  {
   "cell_type": "markdown",
   "metadata": {},
   "source": [
    "Transaktionen 0 bis 4 \"hashen\""
   ]
  },
  {
   "cell_type": "code",
   "execution_count": 18,
   "metadata": {},
   "outputs": [
    {
     "name": "stdout",
     "output_type": "stream",
     "text": [
      "156415084cf228388105ce9560a4ca59d9ba93189b16c7bc1b31e201400a887e\n"
     ]
    }
   ],
   "source": [
    "hash_0 = sha256(transactions[0].to_ascii())\n",
    "hash_1 = sha256(transactions[1].to_ascii())\n",
    "hash_2 = sha256(transactions[2].to_ascii())\n",
    "hash_3 = sha256(transactions[3].to_ascii())\n",
    "\n",
    "# Merkle Tree\n",
    "hash_01 = sha256(str(hash_0)+str(hash_1))\n",
    "hash_23 = sha256(str(hash_2)+str(hash_3))\n",
    "hash_0123 = sha256(str(hash_01)+str(hash_23))\n",
    "\n",
    "print(hash_01)"
   ]
  },
  {
   "cell_type": "markdown",
   "metadata": {},
   "source": [
    "Und dem Block hinzufügen..."
   ]
  },
  {
   "cell_type": "code",
   "execution_count": 19,
   "metadata": {},
   "outputs": [
    {
     "name": "stdout",
     "output_type": "stream",
     "text": [
      "b4880ab3eafce7aa38d1d3f3560d881dab93d40f3c26c679fdd0368e61aea60d\n"
     ]
    }
   ],
   "source": [
    "block.previous_block_hash = last_block_hash\n",
    "block.root_hash = hash_0123\n",
    "\n",
    "print(block.root_hash)"
   ]
  },
  {
   "cell_type": "markdown",
   "metadata": {},
   "source": [
    "Mining"
   ]
  },
  {
   "cell_type": "code",
   "execution_count": 20,
   "metadata": {},
   "outputs": [
    {
     "name": "stdout",
     "output_type": "stream",
     "text": [
      "after 452920 iterations found nonce: 452920. Digest: 11111af5b092ba8478f02652acca812306fb34187ec334e0b8168e3d14747dab\n"
     ]
    }
   ],
   "source": [
    "digest, block.Nonce = mine(block, 5)"
   ]
  },
  {
   "cell_type": "code",
   "execution_count": 21,
   "metadata": {},
   "outputs": [],
   "source": [
    "BlockChain.append(block)\n",
    "last_block_hash = digest"
   ]
  },
  {
   "cell_type": "markdown",
   "metadata": {},
   "source": [
    "Wie sieht unsere Blockchain nun aus?"
   ]
  },
  {
   "cell_type": "code",
   "execution_count": 22,
   "metadata": {},
   "outputs": [
    {
     "name": "stdout",
     "output_type": "stream",
     "text": [
      "Number of blocks in the chain: 2\n",
      "Last block :\n",
      "Root hash\n",
      "b4880ab3eafce7aa38d1d3f3560d881dab93d40f3c26c679fdd0368e61aea60d\n",
      "--------------\n",
      "Nonce\n",
      "452920\n",
      "--------------\n",
      "Previous block hash\n",
      "1299605300851233674\n",
      "=====================================\n"
     ]
    }
   ],
   "source": [
    "dump_blockchain(BlockChain)"
   ]
  },
  {
   "cell_type": "markdown",
   "metadata": {},
   "source": [
    "## Überprüfen einer Transaktion"
   ]
  },
  {
   "cell_type": "code",
   "execution_count": 23,
   "metadata": {},
   "outputs": [
    {
     "name": "stdout",
     "output_type": "stream",
     "text": [
      "sender: 30819f300d06092a864886f70d010101050003818d0030818902818100a76d5ecd50477586e29412f0e3a5185072433f46d5d28971375ed2dc9e31ba3f6ea70115c016654fc3cecab0426916ceba4ac5c8858fedc29cd9c8210f31951a20c75943f59a4b6c0bfd5ca88e6b3626ac9d0d85f2ffde984117f40c71b4fe81464b0b388fca5532d11d285a586eff819853ab916426713fafb6ee58a0fbf8170203010001\n",
      "-----\n",
      "recipient: 30819f300d06092a864886f70d010101050003818d00308189028181009bc897caa47cbcc5fb943bccaa97fb66f65746ffcb79c0c34b8c65bdfee144e1231a49f1e4e2d5346b0c214ecd0a1f0e088f72800d7dd1fb53810df4b831efaca6a6237927ad86ac5f6f76fefadf4d21eced593bb2c9f42e6d994614f02d79e7d53cdbd0922fda390b964c15b577b19f781338a0180e82f7861f50dbd33b83850203010001\n",
      "-----\n",
      "value: 2.0\n",
      "-----\n",
      "time: 2020-08-11 17:47:43.695213\n",
      "-----\n"
     ]
    }
   ],
   "source": [
    "my_transaction = Transaction(Franziska, Steven.identity, 2.0)\n",
    "my_transaction.time = transactions[2].time\n",
    "\n",
    "display_transaction(my_transaction)"
   ]
  },
  {
   "cell_type": "code",
   "execution_count": 24,
   "metadata": {},
   "outputs": [
    {
     "name": "stdout",
     "output_type": "stream",
     "text": [
      "b4880ab3eafce7aa38d1d3f3560d881dab93d40f3c26c679fdd0368e61aea60d\n"
     ]
    }
   ],
   "source": [
    "hash_2 = sha256(my_transaction.to_ascii())\n",
    "\n",
    "hash_23 = sha256(str(hash_2)+str(hash_3))\n",
    "hash_0123 = sha256(str(hash_01)+str(hash_23))\n",
    "\n",
    "print(hash_0123)"
   ]
  },
  {
   "cell_type": "code",
   "execution_count": 25,
   "metadata": {},
   "outputs": [
    {
     "name": "stdout",
     "output_type": "stream",
     "text": [
      "b4880ab3eafce7aa38d1d3f3560d881dab93d40f3c26c679fdd0368e61aea60d\n"
     ]
    }
   ],
   "source": [
    "print(BlockChain[1].root_hash)"
   ]
  },
  {
   "cell_type": "code",
   "execution_count": null,
   "metadata": {},
   "outputs": [],
   "source": []
  }
 ],
 "metadata": {
  "kernelspec": {
   "display_name": "Python 3",
   "language": "python",
   "name": "python3"
  },
  "language_info": {
   "codemirror_mode": {
    "name": "ipython",
    "version": 3
   },
   "file_extension": ".py",
   "mimetype": "text/x-python",
   "name": "python",
   "nbconvert_exporter": "python",
   "pygments_lexer": "ipython3",
   "version": "3.7.3"
  }
 },
 "nbformat": 4,
 "nbformat_minor": 2
}
